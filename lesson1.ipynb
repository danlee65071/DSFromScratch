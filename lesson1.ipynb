{
 "cells": [
  {
   "cell_type": "markdown",
   "id": "82812a28",
   "metadata": {},
   "source": [
    "# Лекция 1"
   ]
  },
  {
   "cell_type": "markdown",
   "id": "d2a23419",
   "metadata": {},
   "source": [
    "## Общая информация о Python и настройка"
   ]
  },
  {
   "cell_type": "markdown",
   "id": "95b50ee6",
   "metadata": {},
   "source": [
    "**Python** - высокоуровневый язык программирования с динамической строгой типизацией и автоматическим управлением памятью. Язык является полностью объектно-ориентированным в том плане, что всё является объектами.\n",
    "\n",
    "\n",
    "Язык интерпретируемый и используется в том числе для написания скриптов.\n",
    "\n",
    "\n",
    "Недостатками языка являются зачастую более низкая скорость работы и более высокое потребление памяти написанных на нём программ по сравнению с аналогичным кодом, написанным на компилируемых языках, таких как C или C++.\n",
    "\n",
    "\n",
    "**Динамическая типизация** - приём, используемый в языках программирования и языках спецификации, при котором переменная связывается с типом в момент присваивания значения, а не в момент объявления переменной.\n",
    "\n",
    "\n",
    "**Строгая типизация** в том, что при любой несовместимости типов произойдет ошибка.\n",
    "\n",
    "\n",
    "Пример:"
   ]
  },
  {
   "cell_type": "code",
   "execution_count": 1,
   "id": "b6ae19de",
   "metadata": {},
   "outputs": [
    {
     "ename": "TypeError",
     "evalue": "unsupported operand type(s) for +: 'int' and 'str'",
     "output_type": "error",
     "traceback": [
      "\u001b[0;31m---------------------------------------------------------------------------\u001b[0m",
      "\u001b[0;31mTypeError\u001b[0m                                 Traceback (most recent call last)",
      "Cell \u001b[0;32mIn[1], line 1\u001b[0m\n\u001b[0;32m----> 1\u001b[0m \u001b[38;5;28mprint\u001b[39m(\u001b[38;5;241;43m1\u001b[39;49m\u001b[43m \u001b[49m\u001b[38;5;241;43m+\u001b[39;49m\u001b[43m \u001b[49m\u001b[38;5;124;43m'\u001b[39;49m\u001b[38;5;124;43m2\u001b[39;49m\u001b[38;5;124;43m'\u001b[39;49m)\n",
      "\u001b[0;31mTypeError\u001b[0m: unsupported operand type(s) for +: 'int' and 'str'"
     ]
    }
   ],
   "source": [
    "print(1 + '2')"
   ]
  },
  {
   "cell_type": "markdown",
   "id": "2d5fd612",
   "metadata": {},
   "source": [
    "Javascript является языком со слабой типизацией.\n",
    "\n",
    "\n",
    "1 + '7';&nbsp;&nbsp;&nbsp;&nbsp;// '17"
   ]
  },
  {
   "cell_type": "markdown",
   "id": "43f91538",
   "metadata": {},
   "source": [
    "## Виртуальные среды"
   ]
  },
  {
   "cell_type": "markdown",
   "id": "e14a0234",
   "metadata": {},
   "source": [
    "Для каждого проекта выполняемого проекта требуется комбинация внешних библиотек. Стандартное решение - использовать виртуальные среды, т.е. изолированные среды Python, которые поддерживают собственные версии библиотек Python.\n",
    "\n",
    "\n",
    "Существует множество инструментов для управления виртуальными средами. Например: venv, virtualenv, Anaconda и т.д.\n",
    "Мы будем использовать Anaconda.\n",
    "\n",
    "\n",
    "**Anaconda** - это дистрибутивы Python и R (ещё один язык для DS). Anaconda включает в себя Scipy, Numpy, Pandas и их зависимости (библиотеки для DS, позже с ними более подробно познакомимся). "
   ]
  },
  {
   "cell_type": "markdown",
   "id": "127488cd",
   "metadata": {},
   "source": [
    "## Установка Anaconda"
   ]
  },
  {
   "cell_type": "markdown",
   "id": "07315511",
   "metadata": {},
   "source": [
    "https://www.anaconda.com/"
   ]
  },
  {
   "cell_type": "markdown",
   "id": "29b72086",
   "metadata": {},
   "source": [
    "## Создание виртуальной среды Anaconda"
   ]
  },
  {
   "cell_type": "markdown",
   "id": "0b483f3a",
   "metadata": {},
   "source": [
    "Создание среды с именем DSFromScratch с версией Python 3.10:\n",
    "\n",
    "\n",
    "**conda create -n DSFromScratch python=3.10**"
   ]
  },
  {
   "cell_type": "markdown",
   "id": "7b6c93b5",
   "metadata": {},
   "source": [
    "Активация среды:\n",
    "\n",
    "\n",
    "**conda activate DSFromScratch**"
   ]
  },
  {
   "cell_type": "markdown",
   "id": "1bea0fe9",
   "metadata": {},
   "source": [
    "Деактивация среды:\n",
    "\n",
    "\n",
    "**conda deactivate DSFromScratch**"
   ]
  },
  {
   "cell_type": "markdown",
   "id": "1cf09762",
   "metadata": {},
   "source": [
    "До тех пор пока эта среда активна, все установленные библиотеки будут устанавливаться только в данной среде."
   ]
  },
  {
   "cell_type": "markdown",
   "id": "a5f3dfb8",
   "metadata": {},
   "source": [
    "## Менеджер установки пакетов"
   ]
  },
  {
   "cell_type": "markdown",
   "id": "e36af088",
   "metadata": {},
   "source": [
    "Anaconda имеет свой менеджер пакетов **conda**, но также можно использовать стандартный менеджер **pip** (на MacOS pip3), что мы и будем использовать."
   ]
  },
  {
   "cell_type": "markdown",
   "id": "4b330b1d",
   "metadata": {},
   "source": [
    "## Установка IPython и Jupyter"
   ]
  },
  {
   "cell_type": "markdown",
   "id": "c7a24527",
   "metadata": {},
   "source": [
    "**IPython** - интерактивная оболочка для языка программирования Python, которая предоставляет расширенную интроспекцию, дополнительный командный синтаксис, подсветку кода и автоматическое дополнение.\n",
    "\n",
    "\n",
    "**Интроспекция** - возможность запросить тип и структуру объекта во время выполнения программы. Позже рассмотрим более подробно.\n",
    "\n",
    "\n",
    "IPython предоставляет богатую архитектуру для вычислений:\n",
    "* Ядро для Jupyter.\n",
    "* Поддержка интерактивной визуализации данных и использование наборов инструментов GUI.\n",
    "* Гибкие встраиваемые интерпретаторы для загрузки в проекты.\n",
    "* Простые в использовании, высокопроизводительные инструменты для параллельных вычислений.\n",
    "\n",
    "\n",
    "Установка:\n",
    "\n",
    "\n",
    "**pip3 install ipython**"
   ]
  },
  {
   "cell_type": "markdown",
   "id": "e3467d99",
   "metadata": {},
   "source": [
    "**Jupyter Notebook** — интерактивный блокнот, первоначально являвшийся веб-реализацией.\n",
    "\n",
    "\n",
    "Для подключения других языков понадобится воспользоваться специальными командами - их называют магическими. Магическая команда выглядит как %<язык программирования> и переключает среду на указанный язык. Так можно подключить даже bash, консольный язык команд для операционных систем (будем рассматривать магические команды по мере их использования).\n",
    "\n",
    "Пример:"
   ]
  },
  {
   "cell_type": "code",
   "execution_count": 2,
   "id": "3ae1dc20",
   "metadata": {},
   "outputs": [
    {
     "name": "stdout",
     "output_type": "stream",
     "text": [
      "lesson1.ipynb\r\n"
     ]
    }
   ],
   "source": [
    "%ls"
   ]
  },
  {
   "cell_type": "markdown",
   "id": "9f5143ab",
   "metadata": {},
   "source": [
    "Jupyter Notebook поддерживает разметку Markdown, которая позволяет создавать заголовки и списки, добавлять интерактивные ссылки и делать многое другое.\n",
    "\n",
    "\n",
    "В Jupyter Notebook, как и в любой IDE, можно запустить код. Отличие в том, что результаты показываются сразу и отображаются в том же документе. Для запуска есть специальная панель с кнопками: запустить, остановить, отладить и так далее.\n",
    "\n",
    "\n",
    "Установка:\n",
    "\n",
    "\n",
    "**pip3 install jupyter**"
   ]
  },
  {
   "cell_type": "markdown",
   "id": "79111807",
   "metadata": {},
   "source": [
    "## Просмотр установленных библиотек"
   ]
  },
  {
   "cell_type": "markdown",
   "id": "d4d6170d",
   "metadata": {},
   "source": [
    "Для просмотра установленных библиотек используйте следующую команду:\n",
    "\n",
    "\n",
    "**pip3 freeze**"
   ]
  },
  {
   "cell_type": "markdown",
   "id": "1ca83257",
   "metadata": {},
   "source": [
    "# Основы Python"
   ]
  },
  {
   "cell_type": "markdown",
   "id": "92a01d26",
   "metadata": {},
   "source": [
    "## Дзен Python"
   ]
  },
  {
   "cell_type": "code",
   "execution_count": 99,
   "id": "d46ba64f",
   "metadata": {},
   "outputs": [
    {
     "name": "stdout",
     "output_type": "stream",
     "text": [
      "The Zen of Python, by Tim Peters\n",
      "\n",
      "Beautiful is better than ugly.\n",
      "Explicit is better than implicit.\n",
      "Simple is better than complex.\n",
      "Complex is better than complicated.\n",
      "Flat is better than nested.\n",
      "Sparse is better than dense.\n",
      "Readability counts.\n",
      "Special cases aren't special enough to break the rules.\n",
      "Although practicality beats purity.\n",
      "Errors should never pass silently.\n",
      "Unless explicitly silenced.\n",
      "In the face of ambiguity, refuse the temptation to guess.\n",
      "There should be one-- and preferably only one --obvious way to do it.\n",
      "Although that way may not be obvious at first unless you're Dutch.\n",
      "Now is better than never.\n",
      "Although never is often better than *right* now.\n",
      "If the implementation is hard to explain, it's a bad idea.\n",
      "If the implementation is easy to explain, it may be a good idea.\n",
      "Namespaces are one honking great idea -- let's do more of those!\n"
     ]
    }
   ],
   "source": [
    "import this"
   ]
  },
  {
   "cell_type": "markdown",
   "id": "5b2a311e",
   "metadata": {},
   "source": [
    "## Базовые типы"
   ]
  },
  {
   "cell_type": "markdown",
   "id": "4dfa6284",
   "metadata": {},
   "source": [
    "Все объекты в Python могут быть либо изменяемыми (мутабельным), либо неизменяемыми (иммутабельным). Изменяемый объект можно изменить после его создания, а неизменяемый - нет. Объекты встроенных типов, таких как **int**, **float**, **bool**, **str**, **tuple**, **unicode**, являются неизменяемыми. Объекты встроенных типов, таких как list, set, dict, являются изменяемыми."
   ]
  },
  {
   "attachments": {
    "Screenshot%20from%202023-02-01%2013-44-00.png": {
     "image/png": "[encoded data removed]"
    }
   },
   "cell_type": "markdown",
   "id": "c3c39ed3",
   "metadata": {},
   "source": [
    "![Screenshot%20from%202023-02-01%2013-44-00.png](attachment:Screenshot%20from%202023-02-01%2013-44-00.png)"
   ]
  },
  {
   "cell_type": "markdown",
   "id": "1e1e24c8",
   "metadata": {},
   "source": [
    "### Числовые типы: int, float, complex"
   ]
  },
  {
   "cell_type": "code",
   "execution_count": 3,
   "id": "fa58eb64",
   "metadata": {},
   "outputs": [
    {
     "data": {
      "text/plain": [
       "(1, 1.0, 1j)"
      ]
     },
     "execution_count": 3,
     "metadata": {},
     "output_type": "execute_result"
    }
   ],
   "source": [
    "1, 1.0, 1j"
   ]
  },
  {
   "cell_type": "markdown",
   "id": "785b93f6",
   "metadata": {},
   "source": [
    "## Переменные"
   ]
  },
  {
   "cell_type": "code",
   "execution_count": 4,
   "id": "bc8a4d3c",
   "metadata": {},
   "outputs": [],
   "source": [
    "clicks = 2"
   ]
  },
  {
   "cell_type": "code",
   "execution_count": 5,
   "id": "eed6f154",
   "metadata": {},
   "outputs": [
    {
     "data": {
      "text/plain": [
       "int"
      ]
     },
     "execution_count": 5,
     "metadata": {},
     "output_type": "execute_result"
    }
   ],
   "source": [
    "type(clicks)"
   ]
  },
  {
   "cell_type": "markdown",
   "id": "d1e1f415",
   "metadata": {},
   "source": [
    "**type()** интроспекция, возвращает тип объекта"
   ]
  },
  {
   "cell_type": "code",
   "execution_count": 6,
   "id": "f549d419",
   "metadata": {},
   "outputs": [
    {
     "data": {
      "text/plain": [
       "3"
      ]
     },
     "execution_count": 6,
     "metadata": {},
     "output_type": "execute_result"
    }
   ],
   "source": [
    "1\n",
    "2\n",
    "3"
   ]
  },
  {
   "cell_type": "markdown",
   "id": "0262ea3e",
   "metadata": {},
   "source": [
    "Результат работы ячейки в Jupyter Notebook - значение последнего выражения"
   ]
  },
  {
   "cell_type": "markdown",
   "id": "85a68547",
   "metadata": {},
   "source": [
    "### Динамическая типизация"
   ]
  },
  {
   "cell_type": "code",
   "execution_count": 7,
   "id": "21afe012",
   "metadata": {},
   "outputs": [],
   "source": [
    "a = 10\n",
    "a = 10.6"
   ]
  },
  {
   "cell_type": "markdown",
   "id": "95cd351a",
   "metadata": {},
   "source": [
    "## Арифметические операции"
   ]
  },
  {
   "cell_type": "code",
   "execution_count": 9,
   "id": "d0bbabe3",
   "metadata": {},
   "outputs": [
    {
     "data": {
      "text/plain": [
       "17.0"
      ]
     },
     "execution_count": 9,
     "metadata": {},
     "output_type": "execute_result"
    }
   ],
   "source": [
    "5 + 6 * (7 - 1) / 3"
   ]
  },
  {
   "cell_type": "code",
   "execution_count": 10,
   "id": "5fb5e398",
   "metadata": {},
   "outputs": [
    {
     "data": {
      "text/plain": [
       "3"
      ]
     },
     "execution_count": 10,
     "metadata": {},
     "output_type": "execute_result"
    }
   ],
   "source": [
    "5 - 2"
   ]
  },
  {
   "cell_type": "code",
   "execution_count": 11,
   "id": "fc265951",
   "metadata": {},
   "outputs": [
    {
     "data": {
      "text/plain": [
       "7"
      ]
     },
     "execution_count": 11,
     "metadata": {},
     "output_type": "execute_result"
    }
   ],
   "source": [
    "5 + 2"
   ]
  },
  {
   "cell_type": "code",
   "execution_count": 12,
   "id": "4f5e8fc2",
   "metadata": {},
   "outputs": [
    {
     "data": {
      "text/plain": [
       "10"
      ]
     },
     "execution_count": 12,
     "metadata": {},
     "output_type": "execute_result"
    }
   ],
   "source": [
    "5 * 2"
   ]
  },
  {
   "cell_type": "code",
   "execution_count": 13,
   "id": "091366ba",
   "metadata": {},
   "outputs": [
    {
     "data": {
      "text/plain": [
       "25"
      ]
     },
     "execution_count": 13,
     "metadata": {},
     "output_type": "execute_result"
    }
   ],
   "source": [
    "5 ** 2"
   ]
  },
  {
   "cell_type": "code",
   "execution_count": 14,
   "id": "33a6b6e9",
   "metadata": {},
   "outputs": [
    {
     "data": {
      "text/plain": [
       "2.5"
      ]
     },
     "execution_count": 14,
     "metadata": {},
     "output_type": "execute_result"
    }
   ],
   "source": [
    "5 / 2"
   ]
  },
  {
   "cell_type": "code",
   "execution_count": 16,
   "id": "626e7a7c",
   "metadata": {},
   "outputs": [
    {
     "data": {
      "text/plain": [
       "2"
      ]
     },
     "execution_count": 16,
     "metadata": {},
     "output_type": "execute_result"
    }
   ],
   "source": [
    "5 // 2"
   ]
  },
  {
   "cell_type": "code",
   "execution_count": 18,
   "id": "86f67f2a",
   "metadata": {},
   "outputs": [
    {
     "data": {
      "text/plain": [
       "1"
      ]
     },
     "execution_count": 18,
     "metadata": {},
     "output_type": "execute_result"
    }
   ],
   "source": [
    "5 % 2"
   ]
  },
  {
   "cell_type": "markdown",
   "id": "c2edd08d",
   "metadata": {},
   "source": [
    "int / int = float"
   ]
  },
  {
   "cell_type": "code",
   "execution_count": 19,
   "id": "89dd469a",
   "metadata": {},
   "outputs": [
    {
     "data": {
      "text/plain": [
       "5.0"
      ]
     },
     "execution_count": 19,
     "metadata": {},
     "output_type": "execute_result"
    }
   ],
   "source": [
    "a = 10\n",
    "b = 2\n",
    "a / b"
   ]
  },
  {
   "cell_type": "markdown",
   "id": "e256878a",
   "metadata": {},
   "source": [
    "## Изменение переменной"
   ]
  },
  {
   "cell_type": "code",
   "execution_count": 35,
   "id": "a3aafa63",
   "metadata": {},
   "outputs": [],
   "source": [
    "a = 5"
   ]
  },
  {
   "cell_type": "code",
   "execution_count": 36,
   "id": "7b183084",
   "metadata": {},
   "outputs": [
    {
     "data": {
      "text/plain": [
       "6"
      ]
     },
     "execution_count": 36,
     "metadata": {},
     "output_type": "execute_result"
    }
   ],
   "source": [
    "a += 1\n",
    "a"
   ]
  },
  {
   "cell_type": "code",
   "execution_count": 37,
   "id": "f24fcaa7",
   "metadata": {},
   "outputs": [
    {
     "data": {
      "text/plain": [
       "5"
      ]
     },
     "execution_count": 37,
     "metadata": {},
     "output_type": "execute_result"
    }
   ],
   "source": [
    "a -= 1\n",
    "a"
   ]
  },
  {
   "cell_type": "code",
   "execution_count": 38,
   "id": "a4f5b971",
   "metadata": {},
   "outputs": [
    {
     "data": {
      "text/plain": [
       "10"
      ]
     },
     "execution_count": 38,
     "metadata": {},
     "output_type": "execute_result"
    }
   ],
   "source": [
    "a *= 2\n",
    "a"
   ]
  },
  {
   "cell_type": "code",
   "execution_count": 39,
   "id": "eab57694",
   "metadata": {},
   "outputs": [
    {
     "data": {
      "text/plain": [
       "5.0"
      ]
     },
     "execution_count": 39,
     "metadata": {},
     "output_type": "execute_result"
    }
   ],
   "source": [
    "a /= 2\n",
    "a"
   ]
  },
  {
   "cell_type": "code",
   "execution_count": 40,
   "id": "b69657b4",
   "metadata": {},
   "outputs": [
    {
     "data": {
      "text/plain": [
       "25.0"
      ]
     },
     "execution_count": 40,
     "metadata": {},
     "output_type": "execute_result"
    }
   ],
   "source": [
    "a **= 2\n",
    "a"
   ]
  },
  {
   "cell_type": "markdown",
   "id": "e847a226",
   "metadata": {},
   "source": [
    "## Битовые операции"
   ]
  },
  {
   "cell_type": "markdown",
   "id": "951400e4",
   "metadata": {},
   "source": [
    "### Сдвиги"
   ]
  },
  {
   "cell_type": "code",
   "execution_count": 41,
   "id": "ac1eaf5a",
   "metadata": {},
   "outputs": [
    {
     "data": {
      "text/plain": [
       "1024"
      ]
     },
     "execution_count": 41,
     "metadata": {},
     "output_type": "execute_result"
    }
   ],
   "source": [
    "1 << 10"
   ]
  },
  {
   "cell_type": "code",
   "execution_count": 43,
   "id": "15dc4374",
   "metadata": {},
   "outputs": [
    {
     "data": {
      "text/plain": [
       "1"
      ]
     },
     "execution_count": 43,
     "metadata": {},
     "output_type": "execute_result"
    }
   ],
   "source": [
    "8 >> 3"
   ]
  },
  {
   "cell_type": "markdown",
   "id": "f402c1b4",
   "metadata": {},
   "source": [
    "### Инверсия"
   ]
  },
  {
   "cell_type": "code",
   "execution_count": 60,
   "id": "799d6dd6",
   "metadata": {},
   "outputs": [
    {
     "data": {
      "text/plain": [
       "15"
      ]
     },
     "execution_count": 60,
     "metadata": {},
     "output_type": "execute_result"
    }
   ],
   "source": [
    "a = 0b1111\n",
    "a"
   ]
  },
  {
   "cell_type": "code",
   "execution_count": 61,
   "id": "adaf761c",
   "metadata": {},
   "outputs": [
    {
     "data": {
      "text/plain": [
       "(-16, '-0b10000')"
      ]
     },
     "execution_count": 61,
     "metadata": {},
     "output_type": "execute_result"
    }
   ],
   "source": [
    "~a, bin(~a)"
   ]
  },
  {
   "cell_type": "markdown",
   "id": "e22d489c",
   "metadata": {},
   "source": [
    "### И"
   ]
  },
  {
   "cell_type": "code",
   "execution_count": 62,
   "id": "7cd6e155",
   "metadata": {},
   "outputs": [
    {
     "data": {
      "text/plain": [
       "(3, '0b11')"
      ]
     },
     "execution_count": 62,
     "metadata": {},
     "output_type": "execute_result"
    }
   ],
   "source": [
    "a = 0b011\n",
    "a, bin(a)"
   ]
  },
  {
   "cell_type": "code",
   "execution_count": 63,
   "id": "9a5fad14",
   "metadata": {},
   "outputs": [
    {
     "data": {
      "text/plain": [
       "(2, '0b10')"
      ]
     },
     "execution_count": 63,
     "metadata": {},
     "output_type": "execute_result"
    }
   ],
   "source": [
    "b = 0b010\n",
    "b, bin(b)"
   ]
  },
  {
   "cell_type": "code",
   "execution_count": 64,
   "id": "d31f774f",
   "metadata": {},
   "outputs": [
    {
     "data": {
      "text/plain": [
       "(2, '0b10')"
      ]
     },
     "execution_count": 64,
     "metadata": {},
     "output_type": "execute_result"
    }
   ],
   "source": [
    "c = a & b\n",
    "c, bin(c)"
   ]
  },
  {
   "cell_type": "markdown",
   "id": "c0cee6b8",
   "metadata": {},
   "source": [
    "### Исключающее или (XOR)"
   ]
  },
  {
   "cell_type": "markdown",
   "id": "7626c7f6",
   "metadata": {},
   "source": [
    "0 ^ 0 = 0\n",
    "\n",
    "0 ^ 1 = 1\n",
    "\n",
    "1 ^ 0 = 1\n",
    "\n",
    "1 ^ 1 = 0"
   ]
  },
  {
   "cell_type": "code",
   "execution_count": 66,
   "id": "3552143a",
   "metadata": {},
   "outputs": [
    {
     "data": {
      "text/plain": [
       "(4, 2, '0b100', '0b10')"
      ]
     },
     "execution_count": 66,
     "metadata": {},
     "output_type": "execute_result"
    }
   ],
   "source": [
    "a = 0b100\n",
    "b = 0b010\n",
    "a, b, bin(a), bin(b)"
   ]
  },
  {
   "cell_type": "code",
   "execution_count": 68,
   "id": "778b33a6",
   "metadata": {},
   "outputs": [
    {
     "data": {
      "text/plain": [
       "(6, '0b110')"
      ]
     },
     "execution_count": 68,
     "metadata": {},
     "output_type": "execute_result"
    }
   ],
   "source": [
    "a ^ b, bin(a ^ b)"
   ]
  },
  {
   "cell_type": "markdown",
   "id": "75ea7729",
   "metadata": {},
   "source": [
    "## Логический тип (bool)"
   ]
  },
  {
   "cell_type": "code",
   "execution_count": 69,
   "id": "6ce09e99",
   "metadata": {},
   "outputs": [
    {
     "data": {
      "text/plain": [
       "(True, False)"
      ]
     },
     "execution_count": 69,
     "metadata": {},
     "output_type": "execute_result"
    }
   ],
   "source": [
    "True, False"
   ]
  },
  {
   "cell_type": "code",
   "execution_count": 70,
   "id": "7e00cb36",
   "metadata": {},
   "outputs": [
    {
     "data": {
      "text/plain": [
       "(bool, bool)"
      ]
     },
     "execution_count": 70,
     "metadata": {},
     "output_type": "execute_result"
    }
   ],
   "source": [
    "type(True), type(False)"
   ]
  },
  {
   "cell_type": "code",
   "execution_count": 71,
   "id": "fb062f43",
   "metadata": {},
   "outputs": [
    {
     "data": {
      "text/plain": [
       "(False, True)"
      ]
     },
     "execution_count": 71,
     "metadata": {},
     "output_type": "execute_result"
    }
   ],
   "source": [
    "not True, not False"
   ]
  },
  {
   "cell_type": "code",
   "execution_count": 72,
   "id": "5a7eed77",
   "metadata": {},
   "outputs": [
    {
     "data": {
      "text/plain": [
       "(False, True, True, False)"
      ]
     },
     "execution_count": 72,
     "metadata": {},
     "output_type": "execute_result"
    }
   ],
   "source": [
    "True and False, True or False, 2 < 3, 2 > 3"
   ]
  },
  {
   "cell_type": "markdown",
   "id": "a8d4cb44",
   "metadata": {},
   "source": [
    "Какой ответ?"
   ]
  },
  {
   "cell_type": "code",
   "execution_count": 74,
   "id": "7a810757",
   "metadata": {},
   "outputs": [
    {
     "data": {
      "text/plain": [
       "True"
      ]
     },
     "execution_count": 74,
     "metadata": {},
     "output_type": "execute_result"
    }
   ],
   "source": [
    "False == False != True"
   ]
  },
  {
   "cell_type": "markdown",
   "id": "fc5fc91e",
   "metadata": {},
   "source": [
    "Неочевидная ситуация, ставьте скобки"
   ]
  },
  {
   "cell_type": "code",
   "execution_count": 75,
   "id": "9c6c86c8",
   "metadata": {},
   "outputs": [
    {
     "data": {
      "text/plain": [
       "True"
      ]
     },
     "execution_count": 75,
     "metadata": {},
     "output_type": "execute_result"
    }
   ],
   "source": [
    "(False == False) and (False != True)"
   ]
  },
  {
   "cell_type": "markdown",
   "id": "e075c77f",
   "metadata": {},
   "source": [
    "Множественное сравнивание"
   ]
  },
  {
   "cell_type": "code",
   "execution_count": 76,
   "id": "0664b888",
   "metadata": {},
   "outputs": [
    {
     "data": {
      "text/plain": [
       "True"
      ]
     },
     "execution_count": 76,
     "metadata": {},
     "output_type": "execute_result"
    }
   ],
   "source": [
    "2 < 3 < 5 < 7"
   ]
  },
  {
   "cell_type": "markdown",
   "id": "6484ff99",
   "metadata": {},
   "source": [
    "Как было в си"
   ]
  },
  {
   "cell_type": "code",
   "execution_count": 77,
   "id": "670956e0",
   "metadata": {},
   "outputs": [
    {
     "data": {
      "text/plain": [
       "True"
      ]
     },
     "execution_count": 77,
     "metadata": {},
     "output_type": "execute_result"
    }
   ],
   "source": [
    "(2 < 3) and (3 < 5) and (5 < 7)"
   ]
  },
  {
   "cell_type": "markdown",
   "id": "1fb6d578",
   "metadata": {},
   "source": [
    "## Строковый тип str"
   ]
  },
  {
   "cell_type": "code",
   "execution_count": 83,
   "id": "f1ef8330",
   "metadata": {},
   "outputs": [
    {
     "data": {
      "text/plain": [
       "('Hello', 'world', 'Learn\\nPython')"
      ]
     },
     "execution_count": 83,
     "metadata": {},
     "output_type": "execute_result"
    }
   ],
   "source": [
    "s1 = 'Hello'\n",
    "s2 = 'world'\n",
    "s3 = '''Learn\n",
    "Python'''\n",
    "s1, s2, s3"
   ]
  },
  {
   "cell_type": "code",
   "execution_count": 84,
   "id": "b45bdfcb",
   "metadata": {},
   "outputs": [
    {
     "name": "stdout",
     "output_type": "stream",
     "text": [
      "Hello\n",
      "world\n",
      "Learn\n",
      "Python\n"
     ]
    }
   ],
   "source": [
    "print(s1)\n",
    "print(s2)\n",
    "print(s3)"
   ]
  },
  {
   "cell_type": "code",
   "execution_count": 85,
   "id": "624e7b0d",
   "metadata": {},
   "outputs": [
    {
     "data": {
      "text/plain": [
       "(str, str, str)"
      ]
     },
     "execution_count": 85,
     "metadata": {},
     "output_type": "execute_result"
    }
   ],
   "source": [
    "type(s1), type(s2), type(s3)"
   ]
  },
  {
   "cell_type": "markdown",
   "id": "276fff48",
   "metadata": {},
   "source": [
    "## Функция print"
   ]
  },
  {
   "cell_type": "code",
   "execution_count": 86,
   "id": "a68e6b86",
   "metadata": {},
   "outputs": [
    {
     "name": "stdout",
     "output_type": "stream",
     "text": [
      "Learn\n",
      "Python\n"
     ]
    }
   ],
   "source": [
    "print(s3)"
   ]
  },
  {
   "cell_type": "code",
   "execution_count": 91,
   "id": "b0772b8c",
   "metadata": {},
   "outputs": [
    {
     "name": "stdout",
     "output_type": "stream",
     "text": [
      "1\n",
      "1 123 True False <class 'int'> <class 'bool'> <class 'str'>\n"
     ]
    }
   ],
   "source": [
    "print(1)\n",
    "print(1, '123', True, False, int, bool, str)"
   ]
  },
  {
   "cell_type": "code",
   "execution_count": 89,
   "id": "2ff88e39",
   "metadata": {},
   "outputs": [
    {
     "name": "stdout",
     "output_type": "stream",
     "text": [
      "2 + 2\n"
     ]
    }
   ],
   "source": [
    "print('2', '+', 2)"
   ]
  },
  {
   "cell_type": "code",
   "execution_count": 90,
   "id": "68110066",
   "metadata": {},
   "outputs": [
    {
     "name": "stdout",
     "output_type": "stream",
     "text": [
      "2    +    2|"
     ]
    }
   ],
   "source": [
    "print('2', '+', 2, sep='    ', end='|')"
   ]
  },
  {
   "cell_type": "markdown",
   "id": "03392fb9",
   "metadata": {},
   "source": [
    "## str, срезы, подстроки"
   ]
  },
  {
   "cell_type": "code",
   "execution_count": 94,
   "id": "7fece700",
   "metadata": {},
   "outputs": [
    {
     "data": {
      "text/plain": [
       "(str, str, str)"
      ]
     },
     "execution_count": 94,
     "metadata": {},
     "output_type": "execute_result"
    }
   ],
   "source": [
    "string = 'Hello, world!'\n",
    "character = string[10]\n",
    "sub_string = string[7:10]\n",
    "type(string), type(character), type(sub_string)"
   ]
  },
  {
   "cell_type": "code",
   "execution_count": 95,
   "id": "674221ca",
   "metadata": {},
   "outputs": [
    {
     "data": {
      "text/plain": [
       "('l', 'wor')"
      ]
     },
     "execution_count": 95,
     "metadata": {},
     "output_type": "execute_result"
    }
   ],
   "source": [
    "character, sub_string"
   ]
  },
  {
   "cell_type": "code",
   "execution_count": 96,
   "id": "6aa9a01f",
   "metadata": {},
   "outputs": [
    {
     "data": {
      "text/plain": [
       "True"
      ]
     },
     "execution_count": 96,
     "metadata": {},
     "output_type": "execute_result"
    }
   ],
   "source": [
    "'world' in string"
   ]
  },
  {
   "cell_type": "code",
   "execution_count": 97,
   "id": "11400584",
   "metadata": {},
   "outputs": [
    {
     "name": "stdout",
     "output_type": "stream",
     "text": [
      "!\n",
      "Hello\n",
      "world!\n",
      "o, w\n",
      "orld\n"
     ]
    }
   ],
   "source": [
    "print(string[-1])\n",
    "print(string[:5])\n",
    "print(string[7:])\n",
    "print(string[4:8])\n",
    "print(string[-5:-1])"
   ]
  },
  {
   "cell_type": "code",
   "execution_count": 98,
   "id": "8310904c",
   "metadata": {},
   "outputs": [
    {
     "name": "stdout",
     "output_type": "stream",
     "text": [
      "Hlo ol!\n",
      "!dlrow ,olleH\n"
     ]
    }
   ],
   "source": [
    "print(string[::2])\n",
    "print(string[::-1])"
   ]
  },
  {
   "cell_type": "markdown",
   "id": "e0535a83",
   "metadata": {},
   "source": [
    "## Перенос строковых литералов"
   ]
  },
  {
   "cell_type": "code",
   "execution_count": 100,
   "id": "11a3a051",
   "metadata": {},
   "outputs": [
    {
     "data": {
      "text/plain": [
       "'123456780'"
      ]
     },
     "execution_count": 100,
     "metadata": {},
     "output_type": "execute_result"
    }
   ],
   "source": [
    "'123' + \\\n",
    "'456' + \\\n",
    "'780'"
   ]
  },
  {
   "cell_type": "code",
   "execution_count": 101,
   "id": "a44a296c",
   "metadata": {},
   "outputs": [
    {
     "data": {
      "text/plain": [
       "'123456780'"
      ]
     },
     "execution_count": 101,
     "metadata": {},
     "output_type": "execute_result"
    }
   ],
   "source": [
    "'123' \\\n",
    "'456' \\\n",
    "'780'"
   ]
  },
  {
   "cell_type": "markdown",
   "id": "577e6ea1",
   "metadata": {},
   "source": [
    "## Список list"
   ]
  },
  {
   "cell_type": "code",
   "execution_count": 206,
   "id": "2bafe00c",
   "metadata": {},
   "outputs": [
    {
     "data": {
      "text/plain": [
       "([], [])"
      ]
     },
     "execution_count": 206,
     "metadata": {},
     "output_type": "execute_result"
    }
   ],
   "source": [
    "empty_list = []\n",
    "empty_list2 = list()\n",
    "empty_list, empty_list2"
   ]
  },
  {
   "cell_type": "code",
   "execution_count": 119,
   "id": "0dc975ae",
   "metadata": {},
   "outputs": [
    {
     "data": {
      "text/plain": [
       "list"
      ]
     },
     "execution_count": 119,
     "metadata": {},
     "output_type": "execute_result"
    }
   ],
   "source": [
    "math_names = ['sin', 'cos', 'div', 'rot']\n",
    "type(math_names)"
   ]
  },
  {
   "cell_type": "code",
   "execution_count": 120,
   "id": "4d183ae6",
   "metadata": {},
   "outputs": [
    {
     "data": {
      "text/plain": [
       "4"
      ]
     },
     "execution_count": 120,
     "metadata": {},
     "output_type": "execute_result"
    }
   ],
   "source": [
    "len(math_names)"
   ]
  },
  {
   "cell_type": "code",
   "execution_count": 121,
   "id": "d4a7e458",
   "metadata": {},
   "outputs": [
    {
     "data": {
      "text/plain": [
       "(True, False)"
      ]
     },
     "execution_count": 121,
     "metadata": {},
     "output_type": "execute_result"
    }
   ],
   "source": [
    "'cos' in math_names, 'sos' in math_names"
   ]
  },
  {
   "cell_type": "code",
   "execution_count": 122,
   "id": "b0bbab3e",
   "metadata": {},
   "outputs": [
    {
     "data": {
      "text/plain": [
       "'sin'"
      ]
     },
     "execution_count": 122,
     "metadata": {},
     "output_type": "execute_result"
    }
   ],
   "source": [
    "math_names[0]"
   ]
  },
  {
   "cell_type": "code",
   "execution_count": 123,
   "id": "3b3384f7",
   "metadata": {},
   "outputs": [
    {
     "data": {
      "text/plain": [
       "['cos', 'div']"
      ]
     },
     "execution_count": 123,
     "metadata": {},
     "output_type": "execute_result"
    }
   ],
   "source": [
    "math_names[1:3]"
   ]
  },
  {
   "cell_type": "code",
   "execution_count": 124,
   "id": "cf15fda3",
   "metadata": {},
   "outputs": [
    {
     "data": {
      "text/plain": [
       "['rot', 'div', 'cos', 'sin']"
      ]
     },
     "execution_count": 124,
     "metadata": {},
     "output_type": "execute_result"
    }
   ],
   "source": [
    "math_names[::-1]"
   ]
  },
  {
   "cell_type": "code",
   "execution_count": 125,
   "id": "c238a257",
   "metadata": {},
   "outputs": [
    {
     "name": "stdout",
     "output_type": "stream",
     "text": [
      "[1, 2, 3, 4]\n",
      "[1, 2, 1, 2, 1, 2, 1, 2]\n"
     ]
    }
   ],
   "source": [
    "print([1, 2] + [3, 4])\n",
    "print([1, 2] * 4)"
   ]
  },
  {
   "cell_type": "code",
   "execution_count": 126,
   "id": "d685882c",
   "metadata": {},
   "outputs": [
    {
     "data": {
      "text/plain": [
       "['sin', 'cos', 'div', 'rot', 'alpha']"
      ]
     },
     "execution_count": 126,
     "metadata": {},
     "output_type": "execute_result"
    }
   ],
   "source": [
    "math_names.append('alpha')\n",
    "math_names"
   ]
  },
  {
   "cell_type": "code",
   "execution_count": 127,
   "id": "6c25cd38",
   "metadata": {},
   "outputs": [
    {
     "data": {
      "text/plain": [
       "['sin', 'cos', 'div', 'rot', 'alpha', 'beta']"
      ]
     },
     "execution_count": 127,
     "metadata": {},
     "output_type": "execute_result"
    }
   ],
   "source": [
    "math_names += ['beta']\n",
    "math_names"
   ]
  },
  {
   "cell_type": "code",
   "execution_count": 128,
   "id": "2b26d416",
   "metadata": {},
   "outputs": [
    {
     "data": {
      "text/plain": [
       "('beta', ['sin', 'cos', 'div', 'rot', 'alpha'])"
      ]
     },
     "execution_count": 128,
     "metadata": {},
     "output_type": "execute_result"
    }
   ],
   "source": [
    "math_names.pop(), math_names"
   ]
  },
  {
   "cell_type": "code",
   "execution_count": 129,
   "id": "81625fe0",
   "metadata": {},
   "outputs": [
    {
     "data": {
      "text/plain": [
       "('cos', ['sin', 'div', 'rot', 'alpha'])"
      ]
     },
     "execution_count": 129,
     "metadata": {},
     "output_type": "execute_result"
    }
   ],
   "source": [
    "math_names.pop(1), math_names"
   ]
  },
  {
   "cell_type": "code",
   "execution_count": 130,
   "id": "dfa2ec3e",
   "metadata": {},
   "outputs": [
    {
     "ename": "IndexError",
     "evalue": "pop index out of range",
     "output_type": "error",
     "traceback": [
      "\u001b[0;31m---------------------------------------------------------------------------\u001b[0m",
      "\u001b[0;31mIndexError\u001b[0m                                Traceback (most recent call last)",
      "Cell \u001b[0;32mIn[130], line 1\u001b[0m\n\u001b[0;32m----> 1\u001b[0m \u001b[43mmath_names\u001b[49m\u001b[38;5;241;43m.\u001b[39;49m\u001b[43mpop\u001b[49m\u001b[43m(\u001b[49m\u001b[38;5;241;43m10\u001b[39;49m\u001b[43m)\u001b[49m\n",
      "\u001b[0;31mIndexError\u001b[0m: pop index out of range"
     ]
    }
   ],
   "source": [
    "math_names.pop(10)"
   ]
  },
  {
   "cell_type": "markdown",
   "id": "ba1f26f1",
   "metadata": {},
   "source": [
    "### Смешивание типов"
   ]
  },
  {
   "cell_type": "code",
   "execution_count": 131,
   "id": "31fec954",
   "metadata": {},
   "outputs": [],
   "source": [
    "new_list = [1, 'asdf', True]"
   ]
  },
  {
   "cell_type": "markdown",
   "id": "d4677c2c",
   "metadata": {},
   "source": [
    "### Самозацикливование"
   ]
  },
  {
   "cell_type": "code",
   "execution_count": 132,
   "id": "3b8c4317",
   "metadata": {},
   "outputs": [
    {
     "data": {
      "text/plain": [
       "[1, 'asdf', True, [...]]"
      ]
     },
     "execution_count": 132,
     "metadata": {},
     "output_type": "execute_result"
    }
   ],
   "source": [
    "new_list.append(new_list)\n",
    "new_list"
   ]
  },
  {
   "cell_type": "code",
   "execution_count": 135,
   "id": "91bb8681",
   "metadata": {},
   "outputs": [
    {
     "data": {
      "text/plain": [
       "[1, 'asdf', True, [...]]"
      ]
     },
     "execution_count": 135,
     "metadata": {},
     "output_type": "execute_result"
    }
   ],
   "source": [
    "new_list[3][3][3][3]"
   ]
  },
  {
   "cell_type": "markdown",
   "id": "7132b15d",
   "metadata": {},
   "source": [
    "### Распаковка"
   ]
  },
  {
   "cell_type": "code",
   "execution_count": 136,
   "id": "d8374d03",
   "metadata": {},
   "outputs": [
    {
     "name": "stdout",
     "output_type": "stream",
     "text": [
      "1 2\n"
     ]
    }
   ],
   "source": [
    "x = [1, 2]\n",
    "y, z = x\n",
    "print(y, z)"
   ]
  },
  {
   "cell_type": "markdown",
   "id": "f837a798",
   "metadata": {},
   "source": [
    "## Кортеж tuple"
   ]
  },
  {
   "cell_type": "code",
   "execution_count": 207,
   "id": "61fd361c",
   "metadata": {},
   "outputs": [
    {
     "data": {
      "text/plain": [
       "((), ())"
      ]
     },
     "execution_count": 207,
     "metadata": {},
     "output_type": "execute_result"
    }
   ],
   "source": [
    "empty_tuple = ()\n",
    "empty_tuple2 = tuple()\n",
    "empty_tuple, empty_tuple2"
   ]
  },
  {
   "cell_type": "code",
   "execution_count": 137,
   "id": "43b1b392",
   "metadata": {},
   "outputs": [
    {
     "data": {
      "text/plain": [
       "(1, 2, 3)"
      ]
     },
     "execution_count": 137,
     "metadata": {},
     "output_type": "execute_result"
    }
   ],
   "source": [
    "(1, 2, 3)"
   ]
  },
  {
   "cell_type": "code",
   "execution_count": 138,
   "id": "2db48e0e",
   "metadata": {},
   "outputs": [
    {
     "data": {
      "text/plain": [
       "(True, 100)"
      ]
     },
     "execution_count": 138,
     "metadata": {},
     "output_type": "execute_result"
    }
   ],
   "source": [
    "(True, 100)"
   ]
  },
  {
   "cell_type": "code",
   "execution_count": 139,
   "id": "9bc96d40",
   "metadata": {},
   "outputs": [
    {
     "data": {
      "text/plain": [
       "(complex, 21, False, int)"
      ]
     },
     "execution_count": 139,
     "metadata": {},
     "output_type": "execute_result"
    }
   ],
   "source": [
    "(complex, 21, False, int)"
   ]
  },
  {
   "cell_type": "code",
   "execution_count": 140,
   "id": "3aaede7e",
   "metadata": {},
   "outputs": [
    {
     "data": {
      "text/plain": [
       "True"
      ]
     },
     "execution_count": 140,
     "metadata": {},
     "output_type": "execute_result"
    }
   ],
   "source": [
    "21 in (complex, 21, False, int)"
   ]
  },
  {
   "cell_type": "code",
   "execution_count": 141,
   "id": "97150119",
   "metadata": {},
   "outputs": [
    {
     "name": "stdout",
     "output_type": "stream",
     "text": [
      "(1, 2, 3, 4)\n",
      "(True, False, True, False, True, False, True, False, True, False)\n"
     ]
    }
   ],
   "source": [
    "print((1, 2) + (3, 4))\n",
    "print((True, False) * 5)"
   ]
  },
  {
   "cell_type": "code",
   "execution_count": 142,
   "id": "c5efb430",
   "metadata": {},
   "outputs": [
    {
     "ename": "TypeError",
     "evalue": "can only concatenate tuple (not \"int\") to tuple",
     "output_type": "error",
     "traceback": [
      "\u001b[0;31m---------------------------------------------------------------------------\u001b[0m",
      "\u001b[0;31mTypeError\u001b[0m                                 Traceback (most recent call last)",
      "Cell \u001b[0;32mIn[142], line 1\u001b[0m\n\u001b[0;32m----> 1\u001b[0m \u001b[38;5;28mprint\u001b[39m(\u001b[43m(\u001b[49m\u001b[38;5;241;43m1\u001b[39;49m\u001b[43m,\u001b[49m\u001b[43m \u001b[49m\u001b[38;5;241;43m2\u001b[39;49m\u001b[43m)\u001b[49m\u001b[43m \u001b[49m\u001b[38;5;241;43m+\u001b[39;49m\u001b[43m \u001b[49m\u001b[38;5;241;43m3\u001b[39;49m)\n",
      "\u001b[0;31mTypeError\u001b[0m: can only concatenate tuple (not \"int\") to tuple"
     ]
    }
   ],
   "source": [
    "print((1, 2) + 3)"
   ]
  },
  {
   "cell_type": "code",
   "execution_count": 144,
   "id": "800dcd5d",
   "metadata": {},
   "outputs": [
    {
     "data": {
      "text/plain": [
       "(1, 2, 3)"
      ]
     },
     "execution_count": 144,
     "metadata": {},
     "output_type": "execute_result"
    }
   ],
   "source": [
    "a = (1, 2)\n",
    "a += (3,)\n",
    "a"
   ]
  },
  {
   "cell_type": "code",
   "execution_count": 151,
   "id": "01181fd3",
   "metadata": {},
   "outputs": [],
   "source": [
    "colors = ('red', 'green', 'blue')\n",
    "red, *other_colors = colors"
   ]
  },
  {
   "cell_type": "code",
   "execution_count": 152,
   "id": "b8a69b47",
   "metadata": {},
   "outputs": [
    {
     "data": {
      "text/plain": [
       "'red'"
      ]
     },
     "execution_count": 152,
     "metadata": {},
     "output_type": "execute_result"
    }
   ],
   "source": [
    "red"
   ]
  },
  {
   "cell_type": "code",
   "execution_count": 153,
   "id": "2d6d1eb5",
   "metadata": {},
   "outputs": [
    {
     "data": {
      "text/plain": [
       "['green', 'blue']"
      ]
     },
     "execution_count": 153,
     "metadata": {},
     "output_type": "execute_result"
    }
   ],
   "source": [
    "other_colors"
   ]
  },
  {
   "cell_type": "code",
   "execution_count": 154,
   "id": "3e5b997b",
   "metadata": {},
   "outputs": [
    {
     "data": {
      "text/plain": [
       "(140081130428592, 140081130428592)"
      ]
     },
     "execution_count": 154,
     "metadata": {},
     "output_type": "execute_result"
    }
   ],
   "source": [
    "id(red), id(colors[0])"
   ]
  },
  {
   "cell_type": "code",
   "execution_count": 155,
   "id": "f9112492",
   "metadata": {},
   "outputs": [
    {
     "ename": "TypeError",
     "evalue": "'tuple' object does not support item assignment",
     "output_type": "error",
     "traceback": [
      "\u001b[0;31m---------------------------------------------------------------------------\u001b[0m",
      "\u001b[0;31mTypeError\u001b[0m                                 Traceback (most recent call last)",
      "Cell \u001b[0;32mIn[155], line 1\u001b[0m\n\u001b[0;32m----> 1\u001b[0m \u001b[43mcolors\u001b[49m\u001b[43m[\u001b[49m\u001b[38;5;241;43m0\u001b[39;49m\u001b[43m]\u001b[49m \u001b[38;5;241m=\u001b[39m \u001b[38;5;124m'\u001b[39m\u001b[38;5;124myellow\u001b[39m\u001b[38;5;124m'\u001b[39m\n",
      "\u001b[0;31mTypeError\u001b[0m: 'tuple' object does not support item assignment"
     ]
    }
   ],
   "source": [
    "colors[0] = 'yellow'"
   ]
  },
  {
   "cell_type": "markdown",
   "id": "d3691381",
   "metadata": {},
   "source": [
    "## Как поменять значения переменных?"
   ]
  },
  {
   "cell_type": "code",
   "execution_count": 156,
   "id": "2c75539c",
   "metadata": {},
   "outputs": [
    {
     "data": {
      "text/plain": [
       "(2, 1)"
      ]
     },
     "execution_count": 156,
     "metadata": {},
     "output_type": "execute_result"
    }
   ],
   "source": [
    "a = 1\n",
    "b = 2\n",
    "a, b = b, a\n",
    "a, b"
   ]
  },
  {
   "cell_type": "markdown",
   "id": "5e8dcc71",
   "metadata": {},
   "source": [
    "## Конвертация типов - неявная"
   ]
  },
  {
   "cell_type": "code",
   "execution_count": 157,
   "id": "7b9526bb",
   "metadata": {},
   "outputs": [
    {
     "data": {
      "text/plain": [
       "2"
      ]
     },
     "execution_count": 157,
     "metadata": {},
     "output_type": "execute_result"
    }
   ],
   "source": [
    "True + 1"
   ]
  },
  {
   "cell_type": "code",
   "execution_count": 158,
   "id": "71b34368",
   "metadata": {},
   "outputs": [
    {
     "data": {
      "text/plain": [
       "2.0"
      ]
     },
     "execution_count": 158,
     "metadata": {},
     "output_type": "execute_result"
    }
   ],
   "source": [
    "1 + 1.0"
   ]
  },
  {
   "cell_type": "code",
   "execution_count": 159,
   "id": "0feb3955",
   "metadata": {},
   "outputs": [
    {
     "data": {
      "text/plain": [
       "2.0"
      ]
     },
     "execution_count": 159,
     "metadata": {},
     "output_type": "execute_result"
    }
   ],
   "source": [
    "True + 1.0"
   ]
  },
  {
   "cell_type": "markdown",
   "id": "8a3f8ef1",
   "metadata": {},
   "source": [
    "## Конвертация типов - явная"
   ]
  },
  {
   "cell_type": "code",
   "execution_count": 160,
   "id": "c33ba677",
   "metadata": {},
   "outputs": [
    {
     "data": {
      "text/plain": [
       "(4, 345, -7.0, 1.4)"
      ]
     },
     "execution_count": 160,
     "metadata": {},
     "output_type": "execute_result"
    }
   ],
   "source": [
    "int(4.3), int('345'), float(-7), float('1.4')"
   ]
  },
  {
   "cell_type": "code",
   "execution_count": 161,
   "id": "84c0fa7e",
   "metadata": {},
   "outputs": [
    {
     "data": {
      "text/plain": [
       "(-inf, inf)"
      ]
     },
     "execution_count": 161,
     "metadata": {},
     "output_type": "execute_result"
    }
   ],
   "source": [
    "float('-inf'), float('inf')"
   ]
  },
  {
   "cell_type": "code",
   "execution_count": 162,
   "id": "bf38d379",
   "metadata": {},
   "outputs": [
    {
     "data": {
      "text/plain": [
       "['a', 'b', 'c']"
      ]
     },
     "execution_count": 162,
     "metadata": {},
     "output_type": "execute_result"
    }
   ],
   "source": [
    "list('abc')"
   ]
  },
  {
   "cell_type": "code",
   "execution_count": 163,
   "id": "b7b41fa3",
   "metadata": {},
   "outputs": [
    {
     "data": {
      "text/plain": [
       "'[1, 2, 3]'"
      ]
     },
     "execution_count": 163,
     "metadata": {},
     "output_type": "execute_result"
    }
   ],
   "source": [
    "str([1, 2, 3])"
   ]
  },
  {
   "cell_type": "code",
   "execution_count": 164,
   "id": "d677925d",
   "metadata": {},
   "outputs": [
    {
     "data": {
      "text/plain": [
       "(1, 2, 3)"
      ]
     },
     "execution_count": 164,
     "metadata": {},
     "output_type": "execute_result"
    }
   ],
   "source": [
    "tuple([1, 2, 3])"
   ]
  },
  {
   "cell_type": "code",
   "execution_count": 166,
   "id": "7c1d6cf2",
   "metadata": {},
   "outputs": [
    {
     "data": {
      "text/plain": [
       "'1 2 3'"
      ]
     },
     "execution_count": 166,
     "metadata": {},
     "output_type": "execute_result"
    }
   ],
   "source": [
    "' '.join(['1', '2', '3'])"
   ]
  },
  {
   "cell_type": "code",
   "execution_count": 167,
   "id": "24e353a7",
   "metadata": {},
   "outputs": [
    {
     "data": {
      "text/plain": [
       "(False, False, False, True, True, True)"
      ]
     },
     "execution_count": 167,
     "metadata": {},
     "output_type": "execute_result"
    }
   ],
   "source": [
    "bool(0), bool(0.0), bool(0j+0), bool(1), bool(1.0), bool(1j+0)"
   ]
  },
  {
   "cell_type": "code",
   "execution_count": 168,
   "id": "1eec00d8",
   "metadata": {},
   "outputs": [
    {
     "data": {
      "text/plain": [
       "(False, True)"
      ]
     },
     "execution_count": 168,
     "metadata": {},
     "output_type": "execute_result"
    }
   ],
   "source": [
    "bool(''), bool('123')"
   ]
  },
  {
   "cell_type": "code",
   "execution_count": 169,
   "id": "268e0784",
   "metadata": {},
   "outputs": [
    {
     "data": {
      "text/plain": [
       "(False, True)"
      ]
     },
     "execution_count": 169,
     "metadata": {},
     "output_type": "execute_result"
    }
   ],
   "source": [
    "bool([]), bool([1, 2])"
   ]
  },
  {
   "cell_type": "code",
   "execution_count": 170,
   "id": "afe9b3c2",
   "metadata": {},
   "outputs": [
    {
     "data": {
      "text/plain": [
       "(False, True)"
      ]
     },
     "execution_count": 170,
     "metadata": {},
     "output_type": "execute_result"
    }
   ],
   "source": [
    "bool(()), bool((1, 2))"
   ]
  },
  {
   "cell_type": "markdown",
   "id": "f55a92dc",
   "metadata": {},
   "source": [
    "## Условный опрератор if-elif-else"
   ]
  },
  {
   "cell_type": "code",
   "execution_count": 172,
   "id": "f6adf636",
   "metadata": {},
   "outputs": [
    {
     "name": "stdout",
     "output_type": "stream",
     "text": [
      "here1\n"
     ]
    }
   ],
   "source": [
    "x = 30\n",
    "if x % 10 == 0:\n",
    "    print('here1')\n",
    "elif x % 5 == 0:\n",
    "    print('here2')\n",
    "else:\n",
    "    print('here3')"
   ]
  },
  {
   "cell_type": "markdown",
   "id": "958cbbf7",
   "metadata": {},
   "source": [
    "## Тернарный оператор"
   ]
  },
  {
   "cell_type": "code",
   "execution_count": 174,
   "id": "0a736b43",
   "metadata": {},
   "outputs": [
    {
     "data": {
      "text/plain": [
       "'here1'"
      ]
     },
     "execution_count": 174,
     "metadata": {},
     "output_type": "execute_result"
    }
   ],
   "source": [
    "res = 'here1' if x % 10 == 0 else 'here2'\n",
    "res"
   ]
  },
  {
   "cell_type": "markdown",
   "id": "3ef17dae",
   "metadata": {},
   "source": [
    "## or и and"
   ]
  },
  {
   "cell_type": "code",
   "execution_count": 175,
   "id": "4d7352f3",
   "metadata": {},
   "outputs": [
    {
     "data": {
      "text/plain": [
       "(True, False)"
      ]
     },
     "execution_count": 175,
     "metadata": {},
     "output_type": "execute_result"
    }
   ],
   "source": [
    "bool(20 or 0), bool(20 and 0)"
   ]
  },
  {
   "cell_type": "code",
   "execution_count": 177,
   "id": "fbb9d962",
   "metadata": {},
   "outputs": [
    {
     "data": {
      "text/plain": [
       "'default'"
      ]
     },
     "execution_count": 177,
     "metadata": {},
     "output_type": "execute_result"
    }
   ],
   "source": [
    "x = ''\n",
    "x = x or 'default'\n",
    "x"
   ]
  },
  {
   "cell_type": "markdown",
   "id": "83ac7bdf",
   "metadata": {},
   "source": [
    "## None - отсутствие значения"
   ]
  },
  {
   "cell_type": "code",
   "execution_count": 178,
   "id": "653766e5",
   "metadata": {},
   "outputs": [],
   "source": [
    "None"
   ]
  },
  {
   "cell_type": "code",
   "execution_count": 179,
   "id": "52748b79",
   "metadata": {},
   "outputs": [
    {
     "data": {
      "text/plain": [
       "NoneType"
      ]
     },
     "execution_count": 179,
     "metadata": {},
     "output_type": "execute_result"
    }
   ],
   "source": [
    "type(None)"
   ]
  },
  {
   "cell_type": "markdown",
   "id": "41621574",
   "metadata": {},
   "source": [
    "## Проверка на None"
   ]
  },
  {
   "cell_type": "code",
   "execution_count": 180,
   "id": "5f2f65f5",
   "metadata": {},
   "outputs": [],
   "source": [
    "value = None"
   ]
  },
  {
   "cell_type": "markdown",
   "id": "8706cd90",
   "metadata": {},
   "source": [
    "Работает для базовых типов, но нестандартные объекты могут быть равны None, не являесь None"
   ]
  },
  {
   "cell_type": "code",
   "execution_count": 181,
   "id": "2ba35b88",
   "metadata": {},
   "outputs": [],
   "source": [
    "if value != None:\n",
    "    print('here')"
   ]
  },
  {
   "cell_type": "markdown",
   "id": "621f2f47",
   "metadata": {},
   "source": [
    "Продвинутый новичок"
   ]
  },
  {
   "cell_type": "code",
   "execution_count": 182,
   "id": "1a606c94",
   "metadata": {},
   "outputs": [],
   "source": [
    "if value:\n",
    "    print('here')"
   ]
  },
  {
   "cell_type": "markdown",
   "id": "dba624b1",
   "metadata": {},
   "source": [
    "Профи"
   ]
  },
  {
   "cell_type": "code",
   "execution_count": 183,
   "id": "be98b7e8",
   "metadata": {},
   "outputs": [],
   "source": [
    "if value is not None:\n",
    "    print('here')"
   ]
  },
  {
   "cell_type": "markdown",
   "id": "0622cfa3",
   "metadata": {},
   "source": [
    "## Цикл for"
   ]
  },
  {
   "cell_type": "code",
   "execution_count": 184,
   "id": "8bb96403",
   "metadata": {},
   "outputs": [
    {
     "name": "stdout",
     "output_type": "stream",
     "text": [
      "1\n",
      "2\n",
      "3\n",
      "4\n"
     ]
    }
   ],
   "source": [
    "for i in [1, 2, 3, 4]:\n",
    "    print(i)"
   ]
  },
  {
   "cell_type": "code",
   "execution_count": 185,
   "id": "d21cac43",
   "metadata": {},
   "outputs": [
    {
     "name": "stdout",
     "output_type": "stream",
     "text": [
      "a\n",
      "b\n",
      "c\n",
      "d\n"
     ]
    }
   ],
   "source": [
    "for c in 'abcd':\n",
    "    print(c)"
   ]
  },
  {
   "cell_type": "code",
   "execution_count": 186,
   "id": "145bae72",
   "metadata": {},
   "outputs": [
    {
     "name": "stdout",
     "output_type": "stream",
     "text": [
      "1\n",
      "True\n",
      "<class 'int'>\n"
     ]
    }
   ],
   "source": [
    "for e in (1, True, int):\n",
    "    print(e)"
   ]
  },
  {
   "cell_type": "markdown",
   "id": "e249afe0",
   "metadata": {},
   "source": [
    "### Как пройтись от 0 до 10 (не включая) не используя лист, т.к. долго писать?"
   ]
  },
  {
   "cell_type": "code",
   "execution_count": 187,
   "id": "02656612",
   "metadata": {},
   "outputs": [
    {
     "name": "stdout",
     "output_type": "stream",
     "text": [
      "0\n",
      "1\n",
      "2\n",
      "3\n",
      "4\n",
      "5\n",
      "6\n",
      "7\n",
      "8\n",
      "9\n"
     ]
    }
   ],
   "source": [
    "for i in range(10):\n",
    "    print(i)"
   ]
  },
  {
   "cell_type": "code",
   "execution_count": 188,
   "id": "d8f732be",
   "metadata": {},
   "outputs": [
    {
     "name": "stdout",
     "output_type": "stream",
     "text": [
      "3\n",
      "4\n",
      "5\n",
      "6\n",
      "7\n",
      "8\n",
      "9\n"
     ]
    }
   ],
   "source": [
    "for i in range(3, 10):\n",
    "    print(i)"
   ]
  },
  {
   "cell_type": "code",
   "execution_count": 194,
   "id": "46062f9c",
   "metadata": {},
   "outputs": [
    {
     "name": "stdout",
     "output_type": "stream",
     "text": [
      "0\n",
      "2\n",
      "4\n",
      "6\n",
      "8\n"
     ]
    }
   ],
   "source": [
    "for i in range(0, 10, 2):\n",
    "    print(i)"
   ]
  },
  {
   "cell_type": "markdown",
   "id": "21d44f8f",
   "metadata": {},
   "source": [
    "## Цикл while"
   ]
  },
  {
   "cell_type": "code",
   "execution_count": 195,
   "id": "f960fd64",
   "metadata": {},
   "outputs": [
    {
     "name": "stdout",
     "output_type": "stream",
     "text": [
      "5\n",
      "4\n",
      "3\n",
      "2\n",
      "1\n",
      "0\n"
     ]
    }
   ],
   "source": [
    "x = 5\n",
    "while x >= 0:\n",
    "    print(x)\n",
    "    x -= 1"
   ]
  },
  {
   "cell_type": "markdown",
   "id": "81843550",
   "metadata": {},
   "source": [
    "## break, continue, else"
   ]
  },
  {
   "cell_type": "code",
   "execution_count": 196,
   "id": "4e316ef6",
   "metadata": {},
   "outputs": [
    {
     "name": "stdout",
     "output_type": "stream",
     "text": [
      "0\n",
      "1\n",
      "2\n",
      "3\n"
     ]
    }
   ],
   "source": [
    "for i in range(5):\n",
    "    if i == 4:\n",
    "        continue\n",
    "    print(i)"
   ]
  },
  {
   "cell_type": "code",
   "execution_count": 197,
   "id": "aae92f08",
   "metadata": {},
   "outputs": [
    {
     "name": "stdout",
     "output_type": "stream",
     "text": [
      "0\n",
      "1\n",
      "2\n",
      "3\n"
     ]
    }
   ],
   "source": [
    "for i in range(5):\n",
    "    if i == 4:\n",
    "        break\n",
    "    print(i)"
   ]
  },
  {
   "cell_type": "code",
   "execution_count": 199,
   "id": "2ab751c0",
   "metadata": {},
   "outputs": [
    {
     "name": "stdout",
     "output_type": "stream",
     "text": [
      "0\n",
      "1\n",
      "2\n",
      "3\n",
      "4\n",
      "here\n"
     ]
    }
   ],
   "source": [
    "for i in range(5):\n",
    "    print(i)\n",
    "else:\n",
    "    print('here')"
   ]
  },
  {
   "cell_type": "code",
   "execution_count": 200,
   "id": "d87cf2f8",
   "metadata": {},
   "outputs": [
    {
     "name": "stdout",
     "output_type": "stream",
     "text": [
      "0\n",
      "1\n",
      "2\n",
      "3\n",
      "4\n"
     ]
    }
   ],
   "source": [
    "for i in range(5):\n",
    "    print(i)\n",
    "    if i == 4:\n",
    "        break\n",
    "else:\n",
    "    print('here')"
   ]
  },
  {
   "cell_type": "markdown",
   "id": "5660ce87",
   "metadata": {},
   "source": [
    "## Функции"
   ]
  },
  {
   "cell_type": "code",
   "execution_count": 201,
   "id": "7bdd5ed1",
   "metadata": {},
   "outputs": [],
   "source": [
    "def num_double(x):\n",
    "    return x ** 2"
   ]
  },
  {
   "cell_type": "code",
   "execution_count": 202,
   "id": "149567ce",
   "metadata": {},
   "outputs": [
    {
     "data": {
      "text/plain": [
       "9"
      ]
     },
     "execution_count": 202,
     "metadata": {},
     "output_type": "execute_result"
    }
   ],
   "source": [
    "num_double(3)"
   ]
  },
  {
   "cell_type": "code",
   "execution_count": 203,
   "id": "b4e6154f",
   "metadata": {},
   "outputs": [],
   "source": [
    "def apply_func(f, x):\n",
    "    return f(x)"
   ]
  },
  {
   "cell_type": "code",
   "execution_count": 204,
   "id": "f0011ff9",
   "metadata": {},
   "outputs": [
    {
     "data": {
      "text/plain": [
       "9"
      ]
     },
     "execution_count": 204,
     "metadata": {},
     "output_type": "execute_result"
    }
   ],
   "source": [
    "apply_func(num_double, 3)"
   ]
  },
  {
   "cell_type": "markdown",
   "id": "72dc0a7a",
   "metadata": {},
   "source": [
    "###  Анонимные функции lambda"
   ]
  },
  {
   "cell_type": "code",
   "execution_count": 205,
   "id": "7d72f4aa",
   "metadata": {},
   "outputs": [
    {
     "data": {
      "text/plain": [
       "7"
      ]
     },
     "execution_count": 205,
     "metadata": {},
     "output_type": "execute_result"
    }
   ],
   "source": [
    "apply_func(lambda a: a + 4, 3)"
   ]
  },
  {
   "cell_type": "markdown",
   "id": "87467c37",
   "metadata": {},
   "source": [
    "## Словари dict"
   ]
  },
  {
   "cell_type": "code",
   "execution_count": 208,
   "id": "ae6f3f7c",
   "metadata": {},
   "outputs": [
    {
     "data": {
      "text/plain": [
       "({}, {})"
      ]
     },
     "execution_count": 208,
     "metadata": {},
     "output_type": "execute_result"
    }
   ],
   "source": [
    "empty_dict = {}\n",
    "empty_dict2 = dict()\n",
    "empty_dict, empty_dict2"
   ]
  },
  {
   "cell_type": "code",
   "execution_count": 210,
   "id": "bbc5c472",
   "metadata": {},
   "outputs": [
    {
     "data": {
      "text/plain": [
       "{'Ibraghim': 100, 'Oleg': 3}"
      ]
     },
     "execution_count": 210,
     "metadata": {},
     "output_type": "execute_result"
    }
   ],
   "source": [
    "grades = {'Ibraghim': 100, 'Oleg': 3}\n",
    "grades"
   ]
  },
  {
   "cell_type": "code",
   "execution_count": 211,
   "id": "bcc04b27",
   "metadata": {},
   "outputs": [
    {
     "data": {
      "text/plain": [
       "{'Ibraghim': 100, 'Oleg': 3, 'Grisha': 89}"
      ]
     },
     "execution_count": 211,
     "metadata": {},
     "output_type": "execute_result"
    }
   ],
   "source": [
    "grades['Grisha'] = 89\n",
    "grades"
   ]
  },
  {
   "cell_type": "code",
   "execution_count": 212,
   "id": "353dc114",
   "metadata": {},
   "outputs": [
    {
     "ename": "KeyError",
     "evalue": "'Daniil'",
     "output_type": "error",
     "traceback": [
      "\u001b[0;31m---------------------------------------------------------------------------\u001b[0m",
      "\u001b[0;31mKeyError\u001b[0m                                  Traceback (most recent call last)",
      "Cell \u001b[0;32mIn[212], line 1\u001b[0m\n\u001b[0;32m----> 1\u001b[0m \u001b[43mgrades\u001b[49m\u001b[43m[\u001b[49m\u001b[38;5;124;43m'\u001b[39;49m\u001b[38;5;124;43mDaniil\u001b[39;49m\u001b[38;5;124;43m'\u001b[39;49m\u001b[43m]\u001b[49m\n",
      "\u001b[0;31mKeyError\u001b[0m: 'Daniil'"
     ]
    }
   ],
   "source": [
    "grades['Daniil']"
   ]
  },
  {
   "cell_type": "code",
   "execution_count": 213,
   "id": "d2e36fed",
   "metadata": {},
   "outputs": [
    {
     "data": {
      "text/plain": [
       "True"
      ]
     },
     "execution_count": 213,
     "metadata": {},
     "output_type": "execute_result"
    }
   ],
   "source": [
    "'Oleg' in grades"
   ]
  },
  {
   "cell_type": "code",
   "execution_count": 214,
   "id": "60fd7f77",
   "metadata": {},
   "outputs": [
    {
     "data": {
      "text/plain": [
       "False"
      ]
     },
     "execution_count": 214,
     "metadata": {},
     "output_type": "execute_result"
    }
   ],
   "source": [
    "'Daniil' in grades"
   ]
  },
  {
   "cell_type": "code",
   "execution_count": 215,
   "id": "a712d9b2",
   "metadata": {},
   "outputs": [
    {
     "data": {
      "text/plain": [
       "0"
      ]
     },
     "execution_count": 215,
     "metadata": {},
     "output_type": "execute_result"
    }
   ],
   "source": [
    "grades.get('Daniil', 0)"
   ]
  },
  {
   "cell_type": "code",
   "execution_count": 216,
   "id": "06a0ba0b",
   "metadata": {},
   "outputs": [
    {
     "data": {
      "text/plain": [
       "3"
      ]
     },
     "execution_count": 216,
     "metadata": {},
     "output_type": "execute_result"
    }
   ],
   "source": [
    "grades.get('Oleg', 0)"
   ]
  },
  {
   "cell_type": "code",
   "execution_count": 217,
   "id": "73fa7fe9",
   "metadata": {},
   "outputs": [
    {
     "data": {
      "text/plain": [
       "{'Ibraghim': 100, 'Oleg': 3}"
      ]
     },
     "execution_count": 217,
     "metadata": {},
     "output_type": "execute_result"
    }
   ],
   "source": [
    "grades.pop('Grisha')\n",
    "grades"
   ]
  },
  {
   "cell_type": "code",
   "execution_count": 218,
   "id": "10da4284",
   "metadata": {},
   "outputs": [
    {
     "data": {
      "text/plain": [
       "dict_items([('Ibraghim', 100), ('Oleg', 3)])"
      ]
     },
     "execution_count": 218,
     "metadata": {},
     "output_type": "execute_result"
    }
   ],
   "source": [
    "grades.items()"
   ]
  },
  {
   "cell_type": "code",
   "execution_count": 219,
   "id": "e85086c6",
   "metadata": {},
   "outputs": [
    {
     "data": {
      "text/plain": [
       "dict_values([100, 3])"
      ]
     },
     "execution_count": 219,
     "metadata": {},
     "output_type": "execute_result"
    }
   ],
   "source": [
    "grades.values()"
   ]
  },
  {
   "cell_type": "code",
   "execution_count": 220,
   "id": "8e106fad",
   "metadata": {},
   "outputs": [
    {
     "data": {
      "text/plain": [
       "dict_keys(['Ibraghim', 'Oleg'])"
      ]
     },
     "execution_count": 220,
     "metadata": {},
     "output_type": "execute_result"
    }
   ],
   "source": [
    "grades.keys()"
   ]
  },
  {
   "cell_type": "markdown",
   "id": "c06d65b3",
   "metadata": {},
   "source": [
    "## Множества set"
   ]
  },
  {
   "cell_type": "code",
   "execution_count": 221,
   "id": "164be93c",
   "metadata": {},
   "outputs": [],
   "source": [
    "empty_set = set()"
   ]
  },
  {
   "cell_type": "code",
   "execution_count": 222,
   "id": "c1dcaeab",
   "metadata": {},
   "outputs": [
    {
     "data": {
      "text/plain": [
       "{0, 1}"
      ]
     },
     "execution_count": 222,
     "metadata": {},
     "output_type": "execute_result"
    }
   ],
   "source": [
    "set_nums = set()\n",
    "set_nums.add(0)\n",
    "set_nums.add(1)\n",
    "set_nums.add(1)\n",
    "set_nums"
   ]
  },
  {
   "cell_type": "code",
   "execution_count": 224,
   "id": "71848f0c",
   "metadata": {},
   "outputs": [
    {
     "data": {
      "text/plain": [
       "{0}"
      ]
     },
     "execution_count": 224,
     "metadata": {},
     "output_type": "execute_result"
    }
   ],
   "source": [
    "set_nums.remove(1)\n",
    "set_nums"
   ]
  },
  {
   "cell_type": "code",
   "execution_count": 225,
   "id": "d43edd2e",
   "metadata": {},
   "outputs": [
    {
     "data": {
      "text/plain": [
       "{1, 2, 3}"
      ]
     },
     "execution_count": 225,
     "metadata": {},
     "output_type": "execute_result"
    }
   ],
   "source": [
    "set_nums = {1, 2, 2, 3}\n",
    "set_nums"
   ]
  },
  {
   "cell_type": "code",
   "execution_count": null,
   "id": "e591a07c",
   "metadata": {},
   "outputs": [],
   "source": []
  }
 ],
 "metadata": {
  "kernelspec": {
   "display_name": "Python 3 (ipykernel)",
   "language": "python",
   "name": "python3"
  },
  "language_info": {
   "codemirror_mode": {
    "name": "ipython",
    "version": 3
   },
   "file_extension": ".py",
   "mimetype": "text/x-python",
   "name": "python",
   "nbconvert_exporter": "python",
   "pygments_lexer": "ipython3",
   "version": "3.10.9"
  }
 },
 "nbformat": 4,
 "nbformat_minor": 5
}
